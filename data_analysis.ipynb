{
 "cells": [
  {
   "cell_type": "code",
   "execution_count": 1,
   "metadata": {},
   "outputs": [],
   "source": [
    "import pandas as pd\n",
    "import numpy as np\n",
    "import matplotlib.pyplot as plt"
   ]
  },
  {
   "cell_type": "code",
   "execution_count": 3,
   "metadata": {},
   "outputs": [
    {
     "name": "stderr",
     "output_type": "stream",
     "text": [
      "/var/folders/qn/j6xymgj57gbfj6b076sjwgzw0000gn/T/ipykernel_10054/1940841417.py:2: DtypeWarning: Columns (11,13) have mixed types. Specify dtype option on import or set low_memory=False.\n",
      "  df = pd.read_csv(\"data/train/data.csv\", sep=\";\")\n"
     ]
    }
   ],
   "source": [
    "# Read data to pandas dataframe\n",
    "df = pd.read_csv(\"data/train/data.csv\", sep=\";\")"
   ]
  },
  {
   "cell_type": "code",
   "execution_count": 7,
   "metadata": {},
   "outputs": [
    {
     "name": "stdout",
     "output_type": "stream",
     "text": [
      "(848411, 20)\n",
      "6\n"
     ]
    }
   ],
   "source": [
    "# Profile the dataset\n",
    "print(df.shape)\n",
    "print(df.shape[0] - df[\"Room\"].duplicated().sum())"
   ]
  }
 ],
 "metadata": {
  "interpreter": {
   "hash": "9540018c020ac4d084c32da39e126d5626184b875ed8ce11c50af5994d80c40b"
  },
  "kernelspec": {
   "display_name": "Python 3.9.12 ('hackathon-phoenix')",
   "language": "python",
   "name": "python3"
  },
  "language_info": {
   "codemirror_mode": {
    "name": "ipython",
    "version": 3
   },
   "file_extension": ".py",
   "mimetype": "text/x-python",
   "name": "python",
   "nbconvert_exporter": "python",
   "pygments_lexer": "ipython3",
   "version": "3.9.12"
  },
  "orig_nbformat": 4
 },
 "nbformat": 4,
 "nbformat_minor": 2
}
