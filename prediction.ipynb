{
 "cells": [
  {
   "cell_type": "code",
   "execution_count": null,
   "metadata": {},
   "outputs": [],
   "source": [
    "%load_ext autoreload\n",
    "%autoreload 2\n",
    "\n",
    "import pandas as pd\n",
    "import numpy as np\n",
    "import matplotlib.pyplot as plt\n",
    "import pandas_profiling\n",
    "from visualize import visualize_rooms\n",
    "from preprocessing import preprocess_df, merge_data\n",
    "from sklearn.ensemble import RandomForestRegressor\n",
    "from model import train_model\n",
    "from autots import AutoTS"
   ]
  },
  {
   "cell_type": "code",
   "execution_count": null,
   "metadata": {},
   "outputs": [],
   "source": [
    "from autots.evaluator.benchmark import Benchmark\n",
    "bench = Benchmark()\n",
    "bench.run(n_jobs=\"auto\", times=3)\n",
    "bench.results"
   ]
  },
  {
   "cell_type": "code",
   "execution_count": null,
   "metadata": {},
   "outputs": [],
   "source": [
    "# load dataset and preprocess\n",
    "df = pd.read_csv(\"data/train/data.csv\", sep=\";\")\n",
    "# merge dataset with weather data\n",
    "df = merge_data(df)"
   ]
  },
  {
   "cell_type": "code",
   "execution_count": null,
   "metadata": {},
   "outputs": [],
   "source": [
    "# discretize, impute etc.\n",
    "dfp = preprocess_df(df.copy())\n",
    "print(dfp.isna().sum())\n"
   ]
  },
  {
   "cell_type": "code",
   "execution_count": null,
   "metadata": {},
   "outputs": [],
   "source": [
    "# export\n",
    "dfp.to_csv(\"./data/train/preprocessed_train.csv\")"
   ]
  },
  {
   "cell_type": "code",
   "execution_count": null,
   "metadata": {},
   "outputs": [],
   "source": [
    "# import\n",
    "df = pd.read_csv(\"./data/train/preprocessed_train.csv\")"
   ]
  },
  {
   "cell_type": "code",
   "execution_count": null,
   "metadata": {},
   "outputs": [],
   "source": [
    "df = df.rename(columns={'Unnamed: 0': 'timestamp'})\n",
    "#df.set_index('timestamp', inplace=True)"
   ]
  },
  {
   "cell_type": "code",
   "execution_count": null,
   "metadata": {},
   "outputs": [],
   "source": [
    "import pytorch_lightning as pl\n",
    "from pytorch_lightning.callbacks import EarlyStopping, LearningRateMonitor\n",
    "from pytorch_lightning.loggers import TensorBoardLogger\n",
    "import torch\n",
    "\n",
    "from pytorch_forecasting import Baseline, TemporalFusionTransformer, TimeSeriesDataSet, DecoderMLP\n",
    "from pytorch_forecasting.metrics import SMAPE, PoissonLoss, QuantileLoss, RMSE\n",
    "from pytorch_forecasting.models.temporal_fusion_transformer.tuning import optimize_hyperparameters"
   ]
  },
  {
   "cell_type": "code",
   "execution_count": null,
   "metadata": {},
   "outputs": [],
   "source": [
    "g = df.groupby(\"Room\")\n",
    "split = [g.get_group(x) for x in g.groups]\n",
    "dfone = split[0].reset_index(drop=True)\n",
    "dfone[\"time_idx\"] = dfone.index"
   ]
  },
  {
   "cell_type": "code",
   "execution_count": null,
   "metadata": {},
   "outputs": [],
   "source": [
    "print(dfone.columns)"
   ]
  },
  {
   "cell_type": "code",
   "execution_count": null,
   "metadata": {},
   "outputs": [],
   "source": [
    "print(dfone[\"RoomTemperature\"])"
   ]
  },
  {
   "cell_type": "code",
   "execution_count": 117,
   "metadata": {},
   "outputs": [],
   "source": [
    "max_prediction_length = 4*24*30*4\n",
    "max_encoder_length = 4*24*30*4*4\n",
    "training_cutoff = dfone[\"time_idx\"].max() - max_prediction_length\n",
    "\n",
    "training = TimeSeriesDataSet(\n",
    "    dfone[lambda x: x.time_idx <= training_cutoff],\n",
    "    time_idx=\"time_idx\",\n",
    "    target=\"RoomTemperature\",\n",
    "    group_ids=[\"Room\"],\n",
    "    min_encoder_length=max_encoder_length // 2,  # keep encoder length long (as it is in the validation set)\n",
    "    max_encoder_length=max_encoder_length,\n",
    "    min_prediction_length=1,\n",
    "    max_prediction_length=max_prediction_length,\n",
    "    static_categoricals=[],\n",
    "    #static_reals=[\"Room\"],\n",
    "    time_varying_known_categoricals=[],\n",
    "    # time_varying_known_reals=[\"time_idx\",  'AirqualityPerc', 'HeaterPerc',\n",
    "    #    'CoolerPerc', 'TempSupplyAir', 'RelativeHumiditySupplyAir',\n",
    "    #    'HeatingPower', 'CoolingPower', 'AirTemperature', 'WindDirection',\n",
    "    #    'BrightnessNorth', 'BrightnessEast', 'BrightnessSouth',\n",
    "    #    'BrightnessWest', 'dwpt', 'rhum',\n",
    "    #    'prcp', 'wspd', 'tsun'],\n",
    "    # time_varying_unknown_categoricals=[],\n",
    "    # time_varying_unknown_reals=[\n",
    "    #     \"RoomTemperature\"\n",
    "    # ],\n",
    "    add_relative_time_idx=True,\n",
    "    #add_target_scales=True,\n",
    "    add_encoder_length=True,\n",
    ")\n",
    "\n",
    "validation = TimeSeriesDataSet.from_dataset(training, dfone, predict=True, stop_randomization=True)\n",
    "batch_size = 128  # set this between 32 to 128\n",
    "train_dataloader = training.to_dataloader(train=True, batch_size=batch_size, num_workers=0)\n",
    "val_dataloader = validation.to_dataloader(train=False, batch_size=batch_size * 10, num_workers=0)"
   ]
  },
  {
   "cell_type": "code",
   "execution_count": 118,
   "metadata": {},
   "outputs": [
    {
     "name": "stderr",
     "output_type": "stream",
     "text": [
      "UserWarning: Attribute 'loss' is an instance of `nn.Module` and is already saved during checkpointing. It is recommended to ignore them using `self.save_hyperparameters(ignore=['loss'])`.\n",
      "UserWarning: Attribute 'logging_metrics' is an instance of `nn.Module` and is already saved during checkpointing. It is recommended to ignore them using `self.save_hyperparameters(ignore=['logging_metrics'])`.\n"
     ]
    },
    {
     "data": {
      "text/plain": [
       "1.4035757780075073"
      ]
     },
     "execution_count": 118,
     "metadata": {},
     "output_type": "execute_result"
    }
   ],
   "source": [
    "actuals = torch.cat([y for x, (y, weight) in iter(val_dataloader)])\n",
    "baseline_predictions = Baseline().predict(val_dataloader)\n",
    "(actuals - baseline_predictions).abs().mean().item()"
   ]
  },
  {
   "cell_type": "code",
   "execution_count": 119,
   "metadata": {},
   "outputs": [
    {
     "name": "stderr",
     "output_type": "stream",
     "text": [
      "Global seed set to 42\n",
      "PossibleUserWarning: `max_epochs` was not set. Setting it to 1000 epochs. To train without an epoch limit, set `max_epochs=-1`.\n",
      "GPU available: False, used: False\n",
      "TPU available: False, using: 0 TPU cores\n",
      "IPU available: False, using: 0 IPUs\n",
      "HPU available: False, using: 0 HPUs\n"
     ]
    },
    {
     "name": "stdout",
     "output_type": "stream",
     "text": [
      "Number of parameters in network: 1.7k\n"
     ]
    }
   ],
   "source": [
    "# configure network and trainer\n",
    "pl.seed_everything(42)\n",
    "trainer = pl.Trainer(\n",
    "    gpus=0,\n",
    "    # clipping gradients is a hyperparameter and important to prevent divergance\n",
    "    # of the gradient for recurrent neural networks\n",
    "    gradient_clip_val=0.1,\n",
    ")\n",
    "\n",
    "\n",
    "tft = DecoderMLP.from_dataset(\n",
    "    training,\n",
    "    n_hidden_layers=5,\n",
    "    # not meaningful for finding the learning rate but otherwise very important\n",
    "    learning_rate=0.03,\n",
    "    hidden_size=16,  # most important hyperparameter apart from learning rate\n",
    "    dropout=0.1,  # between 0.1 and 0.3 are good values\n",
    "    output_size=7,  # 7 quantiles by default\n",
    "    loss=QuantileLoss(),\n",
    "    # reduce learning rate if no improvement in validation loss after x epochs\n",
    "    reduce_on_plateau_patience=4,\n",
    ")\n",
    "print(f\"Number of parameters in network: {tft.size()/1e3:.1f}k\")"
   ]
  },
  {
   "cell_type": "code",
   "execution_count": null,
   "metadata": {},
   "outputs": [],
   "source": [
    "res = trainer.tuner.lr_find(\n",
    "    tft,\n",
    "    train_dataloaders=train_dataloader,\n",
    "    val_dataloaders=val_dataloader,\n",
    "    max_lr=10.0,\n",
    "    min_lr=1e-6,\n",
    ")\n",
    "\n",
    "print(f\"suggested learning rate: {res.suggestion()}\")\n",
    "fig = res.plot(show=True, suggest=True)\n",
    "fig.show()"
   ]
  },
  {
   "cell_type": "code",
   "execution_count": 111,
   "metadata": {},
   "outputs": [
    {
     "name": "stderr",
     "output_type": "stream",
     "text": [
      "GPU available: False, used: False\n",
      "TPU available: False, using: 0 TPU cores\n",
      "IPU available: False, using: 0 IPUs\n",
      "HPU available: False, using: 0 HPUs\n",
      "Running in fast_dev_run mode: will run a full train, val, test and prediction loop using 1 batch(es).\n",
      "`Trainer(limit_train_batches=1)` was configured so 1 batch per epoch will be used.\n",
      "`Trainer(limit_val_batches=1)` was configured so 1 batch will be used.\n",
      "`Trainer(limit_test_batches=1)` was configured so 1 batch will be used.\n",
      "`Trainer(limit_predict_batches=1)` was configured so 1 batch will be used.\n",
      "`Trainer(val_check_interval=1.0)` was configured so validation will run at the end of the training epoch..\n"
     ]
    }
   ],
   "source": [
    "# configure network and trainer\n",
    "early_stop_callback = EarlyStopping(monitor=\"val_loss\", min_delta=1e-4, patience=10, verbose=False, mode=\"min\")\n",
    "lr_logger = LearningRateMonitor()  # log the learning rate\n",
    "logger = TensorBoardLogger(\"lightning_logs\")  # logging results to a tensorboard\n",
    "\n",
    "trainer = pl.Trainer(\n",
    "    max_epochs=30,\n",
    "    gpus=0,\n",
    "    weights_summary=\"top\",\n",
    "    gradient_clip_val=0.1,\n",
    "    #limit_train_batches=30,  # coment in for training, running valiation every 30 batches\n",
    "    fast_dev_run=True,  # comment in to check that networkor dataset has no serious bugs\n",
    "    callbacks=[lr_logger, early_stop_callback],\n",
    "    logger=logger,\n",
    ")"
   ]
  },
  {
   "cell_type": "code",
   "execution_count": 112,
   "metadata": {},
   "outputs": [
    {
     "name": "stderr",
     "output_type": "stream",
     "text": [
      "\n",
      "  | Name             | Type                 | Params\n",
      "----------------------------------------------------------\n",
      "0 | loss             | QuantileLoss         | 0     \n",
      "1 | logging_metrics  | ModuleList           | 0     \n",
      "2 | input_embeddings | MultiEmbedding       | 0     \n",
      "3 | mlp              | FullyConnectedModule | 2.1 K \n",
      "----------------------------------------------------------\n",
      "2.1 K     Trainable params\n",
      "0         Non-trainable params\n",
      "2.1 K     Total params\n",
      "0.008     Total estimated model params size (MB)\n",
      "PossibleUserWarning: The dataloader, train_dataloader, does not have many workers which may be a bottleneck. Consider increasing the value of the `num_workers` argument` (try 8 which is the number of cpus on this machine) in the `DataLoader` init to improve performance.\n",
      "PossibleUserWarning: The number of training batches (1) is smaller than the logging interval Trainer(log_every_n_steps=50). Set a lower value for log_every_n_steps if you want to see logs for the training epoch.\n",
      "PossibleUserWarning: The dataloader, val_dataloader 0, does not have many workers which may be a bottleneck. Consider increasing the value of the `num_workers` argument` (try 8 which is the number of cpus on this machine) in the `DataLoader` init to improve performance.\n"
     ]
    },
    {
     "data": {
      "application/vnd.jupyter.widget-view+json": {
       "model_id": "01757a254c724d849bc1187c9f0a1811",
       "version_major": 2,
       "version_minor": 0
      },
      "text/plain": [
       "Training: 0it [00:00, ?it/s]"
      ]
     },
     "metadata": {},
     "output_type": "display_data"
    },
    {
     "name": "stderr",
     "output_type": "stream",
     "text": [
      "UserWarning: X does not have valid feature names, but StandardScaler was fitted with feature names\n",
      "UserWarning: X does not have valid feature names, but StandardScaler was fitted with feature names\n",
      "UserWarning: X does not have valid feature names, but StandardScaler was fitted with feature names\n",
      "UserWarning: X does not have valid feature names, but StandardScaler was fitted with feature names\n",
      "UserWarning: X does not have valid feature names, but StandardScaler was fitted with feature names\n",
      "UserWarning: X does not have valid feature names, but StandardScaler was fitted with feature names\n",
      "UserWarning: X does not have valid feature names, but StandardScaler was fitted with feature names\n",
      "UserWarning: X does not have valid feature names, but StandardScaler was fitted with feature names\n",
      "UserWarning: X does not have valid feature names, but StandardScaler was fitted with feature names\n",
      "UserWarning: X does not have valid feature names, but StandardScaler was fitted with feature names\n",
      "UserWarning: X does not have valid feature names, but StandardScaler was fitted with feature names\n",
      "UserWarning: X does not have valid feature names, but StandardScaler was fitted with feature names\n",
      "UserWarning: X does not have valid feature names, but StandardScaler was fitted with feature names\n",
      "UserWarning: X does not have valid feature names, but StandardScaler was fitted with feature names\n",
      "UserWarning: X does not have valid feature names, but StandardScaler was fitted with feature names\n",
      "UserWarning: X does not have valid feature names, but StandardScaler was fitted with feature names\n",
      "UserWarning: X does not have valid feature names, but StandardScaler was fitted with feature names\n",
      "UserWarning: X does not have valid feature names, but StandardScaler was fitted with feature names\n",
      "UserWarning: X does not have valid feature names, but StandardScaler was fitted with feature names\n",
      "UserWarning: X does not have valid feature names, but StandardScaler was fitted with feature names\n",
      "UserWarning: X does not have valid feature names, but StandardScaler was fitted with feature names\n",
      "UserWarning: X does not have valid feature names, but StandardScaler was fitted with feature names\n",
      "UserWarning: X does not have valid feature names, but StandardScaler was fitted with feature names\n",
      "UserWarning: X does not have valid feature names, but StandardScaler was fitted with feature names\n",
      "UserWarning: X does not have valid feature names, but StandardScaler was fitted with feature names\n",
      "UserWarning: X does not have valid feature names, but StandardScaler was fitted with feature names\n",
      "UserWarning: X does not have valid feature names, but StandardScaler was fitted with feature names\n",
      "UserWarning: X does not have valid feature names, but StandardScaler was fitted with feature names\n",
      "UserWarning: X does not have valid feature names, but StandardScaler was fitted with feature names\n",
      "UserWarning: X does not have valid feature names, but StandardScaler was fitted with feature names\n",
      "UserWarning: X does not have valid feature names, but StandardScaler was fitted with feature names\n",
      "UserWarning: X does not have valid feature names, but StandardScaler was fitted with feature names\n",
      "UserWarning: X does not have valid feature names, but StandardScaler was fitted with feature names\n",
      "UserWarning: X does not have valid feature names, but StandardScaler was fitted with feature names\n",
      "UserWarning: X does not have valid feature names, but StandardScaler was fitted with feature names\n",
      "UserWarning: X does not have valid feature names, but StandardScaler was fitted with feature names\n",
      "UserWarning: X does not have valid feature names, but StandardScaler was fitted with feature names\n",
      "UserWarning: X does not have valid feature names, but StandardScaler was fitted with feature names\n",
      "UserWarning: X does not have valid feature names, but StandardScaler was fitted with feature names\n",
      "UserWarning: X does not have valid feature names, but StandardScaler was fitted with feature names\n",
      "UserWarning: X does not have valid feature names, but StandardScaler was fitted with feature names\n",
      "UserWarning: X does not have valid feature names, but StandardScaler was fitted with feature names\n",
      "UserWarning: X does not have valid feature names, but StandardScaler was fitted with feature names\n",
      "UserWarning: X does not have valid feature names, but StandardScaler was fitted with feature names\n",
      "UserWarning: X does not have valid feature names, but StandardScaler was fitted with feature names\n",
      "UserWarning: X does not have valid feature names, but StandardScaler was fitted with feature names\n",
      "UserWarning: X does not have valid feature names, but StandardScaler was fitted with feature names\n",
      "UserWarning: X does not have valid feature names, but StandardScaler was fitted with feature names\n",
      "UserWarning: X does not have valid feature names, but StandardScaler was fitted with feature names\n",
      "UserWarning: X does not have valid feature names, but StandardScaler was fitted with feature names\n",
      "UserWarning: X does not have valid feature names, but StandardScaler was fitted with feature names\n",
      "UserWarning: X does not have valid feature names, but StandardScaler was fitted with feature names\n",
      "UserWarning: X does not have valid feature names, but StandardScaler was fitted with feature names\n",
      "UserWarning: X does not have valid feature names, but StandardScaler was fitted with feature names\n",
      "UserWarning: X does not have valid feature names, but StandardScaler was fitted with feature names\n",
      "UserWarning: X does not have valid feature names, but StandardScaler was fitted with feature names\n",
      "UserWarning: X does not have valid feature names, but StandardScaler was fitted with feature names\n",
      "UserWarning: X does not have valid feature names, but StandardScaler was fitted with feature names\n",
      "UserWarning: X does not have valid feature names, but StandardScaler was fitted with feature names\n",
      "UserWarning: X does not have valid feature names, but StandardScaler was fitted with feature names\n",
      "UserWarning: X does not have valid feature names, but StandardScaler was fitted with feature names\n",
      "UserWarning: X does not have valid feature names, but StandardScaler was fitted with feature names\n",
      "UserWarning: X does not have valid feature names, but StandardScaler was fitted with feature names\n",
      "UserWarning: X does not have valid feature names, but StandardScaler was fitted with feature names\n",
      "UserWarning: X does not have valid feature names, but StandardScaler was fitted with feature names\n",
      "UserWarning: X does not have valid feature names, but StandardScaler was fitted with feature names\n",
      "UserWarning: X does not have valid feature names, but StandardScaler was fitted with feature names\n",
      "UserWarning: X does not have valid feature names, but StandardScaler was fitted with feature names\n",
      "UserWarning: X does not have valid feature names, but StandardScaler was fitted with feature names\n",
      "UserWarning: X does not have valid feature names, but StandardScaler was fitted with feature names\n",
      "UserWarning: X does not have valid feature names, but StandardScaler was fitted with feature names\n",
      "UserWarning: X does not have valid feature names, but StandardScaler was fitted with feature names\n",
      "UserWarning: X does not have valid feature names, but StandardScaler was fitted with feature names\n",
      "UserWarning: X does not have valid feature names, but StandardScaler was fitted with feature names\n",
      "UserWarning: X does not have valid feature names, but StandardScaler was fitted with feature names\n",
      "UserWarning: X does not have valid feature names, but StandardScaler was fitted with feature names\n",
      "UserWarning: X does not have valid feature names, but StandardScaler was fitted with feature names\n",
      "UserWarning: X does not have valid feature names, but StandardScaler was fitted with feature names\n",
      "UserWarning: X does not have valid feature names, but StandardScaler was fitted with feature names\n",
      "UserWarning: X does not have valid feature names, but StandardScaler was fitted with feature names\n",
      "UserWarning: X does not have valid feature names, but StandardScaler was fitted with feature names\n",
      "UserWarning: X does not have valid feature names, but StandardScaler was fitted with feature names\n",
      "UserWarning: X does not have valid feature names, but StandardScaler was fitted with feature names\n",
      "UserWarning: X does not have valid feature names, but StandardScaler was fitted with feature names\n",
      "UserWarning: X does not have valid feature names, but StandardScaler was fitted with feature names\n",
      "UserWarning: X does not have valid feature names, but StandardScaler was fitted with feature names\n",
      "UserWarning: X does not have valid feature names, but StandardScaler was fitted with feature names\n",
      "UserWarning: X does not have valid feature names, but StandardScaler was fitted with feature names\n",
      "UserWarning: X does not have valid feature names, but StandardScaler was fitted with feature names\n",
      "UserWarning: X does not have valid feature names, but StandardScaler was fitted with feature names\n",
      "UserWarning: X does not have valid feature names, but StandardScaler was fitted with feature names\n",
      "UserWarning: X does not have valid feature names, but StandardScaler was fitted with feature names\n",
      "UserWarning: X does not have valid feature names, but StandardScaler was fitted with feature names\n",
      "UserWarning: X does not have valid feature names, but StandardScaler was fitted with feature names\n",
      "UserWarning: X does not have valid feature names, but StandardScaler was fitted with feature names\n",
      "UserWarning: X does not have valid feature names, but StandardScaler was fitted with feature names\n",
      "UserWarning: X does not have valid feature names, but StandardScaler was fitted with feature names\n",
      "UserWarning: X does not have valid feature names, but StandardScaler was fitted with feature names\n",
      "UserWarning: X does not have valid feature names, but StandardScaler was fitted with feature names\n",
      "UserWarning: X does not have valid feature names, but StandardScaler was fitted with feature names\n",
      "UserWarning: X does not have valid feature names, but StandardScaler was fitted with feature names\n",
      "UserWarning: X does not have valid feature names, but StandardScaler was fitted with feature names\n",
      "UserWarning: X does not have valid feature names, but StandardScaler was fitted with feature names\n",
      "UserWarning: X does not have valid feature names, but StandardScaler was fitted with feature names\n",
      "UserWarning: X does not have valid feature names, but StandardScaler was fitted with feature names\n",
      "UserWarning: X does not have valid feature names, but StandardScaler was fitted with feature names\n",
      "UserWarning: X does not have valid feature names, but StandardScaler was fitted with feature names\n",
      "UserWarning: X does not have valid feature names, but StandardScaler was fitted with feature names\n",
      "UserWarning: X does not have valid feature names, but StandardScaler was fitted with feature names\n",
      "UserWarning: X does not have valid feature names, but StandardScaler was fitted with feature names\n",
      "UserWarning: X does not have valid feature names, but StandardScaler was fitted with feature names\n",
      "UserWarning: X does not have valid feature names, but StandardScaler was fitted with feature names\n",
      "UserWarning: X does not have valid feature names, but StandardScaler was fitted with feature names\n",
      "UserWarning: X does not have valid feature names, but StandardScaler was fitted with feature names\n",
      "UserWarning: X does not have valid feature names, but StandardScaler was fitted with feature names\n",
      "UserWarning: X does not have valid feature names, but StandardScaler was fitted with feature names\n",
      "UserWarning: X does not have valid feature names, but StandardScaler was fitted with feature names\n",
      "UserWarning: X does not have valid feature names, but StandardScaler was fitted with feature names\n",
      "UserWarning: X does not have valid feature names, but StandardScaler was fitted with feature names\n",
      "UserWarning: X does not have valid feature names, but StandardScaler was fitted with feature names\n",
      "UserWarning: X does not have valid feature names, but StandardScaler was fitted with feature names\n",
      "UserWarning: X does not have valid feature names, but StandardScaler was fitted with feature names\n",
      "UserWarning: X does not have valid feature names, but StandardScaler was fitted with feature names\n",
      "UserWarning: X does not have valid feature names, but StandardScaler was fitted with feature names\n",
      "UserWarning: X does not have valid feature names, but StandardScaler was fitted with feature names\n",
      "UserWarning: X does not have valid feature names, but StandardScaler was fitted with feature names\n",
      "UserWarning: X does not have valid feature names, but StandardScaler was fitted with feature names\n",
      "UserWarning: X does not have valid feature names, but StandardScaler was fitted with feature names\n",
      "UserWarning: X does not have valid feature names, but StandardScaler was fitted with feature names\n",
      "UserWarning: X does not have valid feature names, but StandardScaler was fitted with feature names\n",
      "UserWarning: X does not have valid feature names, but StandardScaler was fitted with feature names\n",
      "UserWarning: X does not have valid feature names, but StandardScaler was fitted with feature names\n",
      "UserWarning: X does not have valid feature names, but StandardScaler was fitted with feature names\n",
      "UserWarning: X does not have valid feature names, but StandardScaler was fitted with feature names\n",
      "UserWarning: X does not have valid feature names, but StandardScaler was fitted with feature names\n",
      "UserWarning: X does not have valid feature names, but StandardScaler was fitted with feature names\n",
      "UserWarning: X does not have valid feature names, but StandardScaler was fitted with feature names\n",
      "UserWarning: X does not have valid feature names, but StandardScaler was fitted with feature names\n",
      "UserWarning: X does not have valid feature names, but StandardScaler was fitted with feature names\n",
      "UserWarning: X does not have valid feature names, but StandardScaler was fitted with feature names\n",
      "UserWarning: X does not have valid feature names, but StandardScaler was fitted with feature names\n",
      "UserWarning: X does not have valid feature names, but StandardScaler was fitted with feature names\n",
      "UserWarning: X does not have valid feature names, but StandardScaler was fitted with feature names\n",
      "UserWarning: X does not have valid feature names, but StandardScaler was fitted with feature names\n",
      "UserWarning: X does not have valid feature names, but StandardScaler was fitted with feature names\n",
      "UserWarning: X does not have valid feature names, but StandardScaler was fitted with feature names\n",
      "UserWarning: X does not have valid feature names, but StandardScaler was fitted with feature names\n",
      "UserWarning: X does not have valid feature names, but StandardScaler was fitted with feature names\n",
      "UserWarning: X does not have valid feature names, but StandardScaler was fitted with feature names\n",
      "UserWarning: X does not have valid feature names, but StandardScaler was fitted with feature names\n",
      "UserWarning: X does not have valid feature names, but StandardScaler was fitted with feature names\n",
      "UserWarning: X does not have valid feature names, but StandardScaler was fitted with feature names\n",
      "UserWarning: X does not have valid feature names, but StandardScaler was fitted with feature names\n",
      "UserWarning: X does not have valid feature names, but StandardScaler was fitted with feature names\n",
      "UserWarning: X does not have valid feature names, but StandardScaler was fitted with feature names\n",
      "UserWarning: X does not have valid feature names, but StandardScaler was fitted with feature names\n",
      "UserWarning: X does not have valid feature names, but StandardScaler was fitted with feature names\n",
      "UserWarning: X does not have valid feature names, but StandardScaler was fitted with feature names\n",
      "UserWarning: X does not have valid feature names, but StandardScaler was fitted with feature names\n",
      "UserWarning: X does not have valid feature names, but StandardScaler was fitted with feature names\n",
      "UserWarning: X does not have valid feature names, but StandardScaler was fitted with feature names\n",
      "UserWarning: X does not have valid feature names, but StandardScaler was fitted with feature names\n",
      "UserWarning: X does not have valid feature names, but StandardScaler was fitted with feature names\n",
      "UserWarning: X does not have valid feature names, but StandardScaler was fitted with feature names\n",
      "UserWarning: X does not have valid feature names, but StandardScaler was fitted with feature names\n",
      "UserWarning: X does not have valid feature names, but StandardScaler was fitted with feature names\n",
      "UserWarning: X does not have valid feature names, but StandardScaler was fitted with feature names\n",
      "UserWarning: X does not have valid feature names, but StandardScaler was fitted with feature names\n",
      "UserWarning: X does not have valid feature names, but StandardScaler was fitted with feature names\n",
      "UserWarning: X does not have valid feature names, but StandardScaler was fitted with feature names\n",
      "UserWarning: X does not have valid feature names, but StandardScaler was fitted with feature names\n",
      "UserWarning: X does not have valid feature names, but StandardScaler was fitted with feature names\n",
      "UserWarning: X does not have valid feature names, but StandardScaler was fitted with feature names\n",
      "UserWarning: X does not have valid feature names, but StandardScaler was fitted with feature names\n",
      "UserWarning: X does not have valid feature names, but StandardScaler was fitted with feature names\n",
      "UserWarning: X does not have valid feature names, but StandardScaler was fitted with feature names\n",
      "UserWarning: X does not have valid feature names, but StandardScaler was fitted with feature names\n",
      "UserWarning: X does not have valid feature names, but StandardScaler was fitted with feature names\n",
      "UserWarning: X does not have valid feature names, but StandardScaler was fitted with feature names\n",
      "UserWarning: X does not have valid feature names, but StandardScaler was fitted with feature names\n",
      "UserWarning: X does not have valid feature names, but StandardScaler was fitted with feature names\n",
      "UserWarning: X does not have valid feature names, but StandardScaler was fitted with feature names\n",
      "UserWarning: X does not have valid feature names, but StandardScaler was fitted with feature names\n",
      "UserWarning: X does not have valid feature names, but StandardScaler was fitted with feature names\n",
      "UserWarning: X does not have valid feature names, but StandardScaler was fitted with feature names\n",
      "UserWarning: X does not have valid feature names, but StandardScaler was fitted with feature names\n",
      "UserWarning: X does not have valid feature names, but StandardScaler was fitted with feature names\n",
      "UserWarning: X does not have valid feature names, but StandardScaler was fitted with feature names\n",
      "UserWarning: X does not have valid feature names, but StandardScaler was fitted with feature names\n",
      "UserWarning: X does not have valid feature names, but StandardScaler was fitted with feature names\n",
      "UserWarning: X does not have valid feature names, but StandardScaler was fitted with feature names\n",
      "UserWarning: X does not have valid feature names, but StandardScaler was fitted with feature names\n",
      "UserWarning: X does not have valid feature names, but StandardScaler was fitted with feature names\n",
      "UserWarning: X does not have valid feature names, but StandardScaler was fitted with feature names\n",
      "UserWarning: X does not have valid feature names, but StandardScaler was fitted with feature names\n",
      "UserWarning: X does not have valid feature names, but StandardScaler was fitted with feature names\n",
      "UserWarning: X does not have valid feature names, but StandardScaler was fitted with feature names\n",
      "UserWarning: X does not have valid feature names, but StandardScaler was fitted with feature names\n",
      "UserWarning: X does not have valid feature names, but StandardScaler was fitted with feature names\n",
      "UserWarning: X does not have valid feature names, but StandardScaler was fitted with feature names\n",
      "UserWarning: X does not have valid feature names, but StandardScaler was fitted with feature names\n",
      "UserWarning: X does not have valid feature names, but StandardScaler was fitted with feature names\n",
      "UserWarning: X does not have valid feature names, but StandardScaler was fitted with feature names\n",
      "UserWarning: X does not have valid feature names, but StandardScaler was fitted with feature names\n",
      "UserWarning: X does not have valid feature names, but StandardScaler was fitted with feature names\n",
      "UserWarning: X does not have valid feature names, but StandardScaler was fitted with feature names\n",
      "UserWarning: X does not have valid feature names, but StandardScaler was fitted with feature names\n",
      "UserWarning: X does not have valid feature names, but StandardScaler was fitted with feature names\n",
      "UserWarning: X does not have valid feature names, but StandardScaler was fitted with feature names\n",
      "UserWarning: X does not have valid feature names, but StandardScaler was fitted with feature names\n",
      "UserWarning: X does not have valid feature names, but StandardScaler was fitted with feature names\n",
      "UserWarning: X does not have valid feature names, but StandardScaler was fitted with feature names\n",
      "UserWarning: X does not have valid feature names, but StandardScaler was fitted with feature names\n",
      "UserWarning: X does not have valid feature names, but StandardScaler was fitted with feature names\n",
      "UserWarning: X does not have valid feature names, but StandardScaler was fitted with feature names\n",
      "UserWarning: X does not have valid feature names, but StandardScaler was fitted with feature names\n",
      "UserWarning: X does not have valid feature names, but StandardScaler was fitted with feature names\n",
      "UserWarning: X does not have valid feature names, but StandardScaler was fitted with feature names\n",
      "UserWarning: X does not have valid feature names, but StandardScaler was fitted with feature names\n",
      "UserWarning: X does not have valid feature names, but StandardScaler was fitted with feature names\n",
      "UserWarning: X does not have valid feature names, but StandardScaler was fitted with feature names\n",
      "UserWarning: X does not have valid feature names, but StandardScaler was fitted with feature names\n",
      "UserWarning: X does not have valid feature names, but StandardScaler was fitted with feature names\n",
      "UserWarning: X does not have valid feature names, but StandardScaler was fitted with feature names\n",
      "UserWarning: X does not have valid feature names, but StandardScaler was fitted with feature names\n",
      "UserWarning: X does not have valid feature names, but StandardScaler was fitted with feature names\n",
      "UserWarning: X does not have valid feature names, but StandardScaler was fitted with feature names\n",
      "UserWarning: X does not have valid feature names, but StandardScaler was fitted with feature names\n",
      "UserWarning: X does not have valid feature names, but StandardScaler was fitted with feature names\n",
      "UserWarning: X does not have valid feature names, but StandardScaler was fitted with feature names\n",
      "UserWarning: X does not have valid feature names, but StandardScaler was fitted with feature names\n",
      "UserWarning: X does not have valid feature names, but StandardScaler was fitted with feature names\n",
      "UserWarning: X does not have valid feature names, but StandardScaler was fitted with feature names\n",
      "UserWarning: X does not have valid feature names, but StandardScaler was fitted with feature names\n",
      "UserWarning: X does not have valid feature names, but StandardScaler was fitted with feature names\n",
      "UserWarning: X does not have valid feature names, but StandardScaler was fitted with feature names\n",
      "UserWarning: X does not have valid feature names, but StandardScaler was fitted with feature names\n",
      "UserWarning: X does not have valid feature names, but StandardScaler was fitted with feature names\n",
      "UserWarning: X does not have valid feature names, but StandardScaler was fitted with feature names\n",
      "UserWarning: X does not have valid feature names, but StandardScaler was fitted with feature names\n",
      "UserWarning: X does not have valid feature names, but StandardScaler was fitted with feature names\n",
      "UserWarning: X does not have valid feature names, but StandardScaler was fitted with feature names\n",
      "UserWarning: X does not have valid feature names, but StandardScaler was fitted with feature names\n",
      "UserWarning: X does not have valid feature names, but StandardScaler was fitted with feature names\n",
      "UserWarning: X does not have valid feature names, but StandardScaler was fitted with feature names\n",
      "UserWarning: X does not have valid feature names, but StandardScaler was fitted with feature names\n",
      "UserWarning: X does not have valid feature names, but StandardScaler was fitted with feature names\n",
      "UserWarning: X does not have valid feature names, but StandardScaler was fitted with feature names\n",
      "UserWarning: X does not have valid feature names, but StandardScaler was fitted with feature names\n",
      "UserWarning: X does not have valid feature names, but StandardScaler was fitted with feature names\n",
      "UserWarning: X does not have valid feature names, but StandardScaler was fitted with feature names\n",
      "UserWarning: X does not have valid feature names, but StandardScaler was fitted with feature names\n",
      "UserWarning: X does not have valid feature names, but StandardScaler was fitted with feature names\n",
      "UserWarning: X does not have valid feature names, but StandardScaler was fitted with feature names\n",
      "UserWarning: X does not have valid feature names, but StandardScaler was fitted with feature names\n",
      "UserWarning: X does not have valid feature names, but StandardScaler was fitted with feature names\n"
     ]
    },
    {
     "data": {
      "application/vnd.jupyter.widget-view+json": {
       "model_id": "9d3d1eec592945f2814c1c2f841da93f",
       "version_major": 2,
       "version_minor": 0
      },
      "text/plain": [
       "Validation: 0it [00:00, ?it/s]"
      ]
     },
     "metadata": {},
     "output_type": "display_data"
    },
    {
     "name": "stderr",
     "output_type": "stream",
     "text": [
      "UserWarning: X does not have valid feature names, but StandardScaler was fitted with feature names\n",
      "UserWarning: X does not have valid feature names, but StandardScaler was fitted with feature names\n"
     ]
    }
   ],
   "source": [
    "trainer.fit(\n",
    "    tft,\n",
    "    train_dataloaders=train_dataloader,\n",
    "    val_dataloaders=val_dataloader,\n",
    ")"
   ]
  },
  {
   "cell_type": "code",
   "execution_count": null,
   "metadata": {},
   "outputs": [],
   "source": [
    "df_ts = df.copy()\n",
    "df_ts = df_ts.reset_index().rename(columns={'index':'timestamp'})\n",
    "print(df_ts.head(2))\n",
    "# Evaluate different simple time series models\n",
    "model = AutoTS(\n",
    "    forecast_length=3,\n",
    "    frequency='infer',\n",
    "    ensemble='simple',\n",
    "    max_generations=10,\n",
    "    num_validations=2,\n",
    "    n_jobs='auto'\n",
    ")\n",
    "\n",
    "model.fit(df_ts, date_col='timestamp', value_col='RoomTemperature', id_col=\"Room\")"
   ]
  }
 ],
 "metadata": {
  "interpreter": {
   "hash": "9540018c020ac4d084c32da39e126d5626184b875ed8ce11c50af5994d80c40b"
  },
  "kernelspec": {
   "display_name": "Python 3.9.12 ('hackathon-phoenix')",
   "language": "python",
   "name": "python3"
  },
  "language_info": {
   "codemirror_mode": {
    "name": "ipython",
    "version": 3
   },
   "file_extension": ".py",
   "mimetype": "text/x-python",
   "name": "python",
   "nbconvert_exporter": "python",
   "pygments_lexer": "ipython3",
   "version": "3.9.12"
  },
  "orig_nbformat": 4
 },
 "nbformat": 4,
 "nbformat_minor": 2
}
